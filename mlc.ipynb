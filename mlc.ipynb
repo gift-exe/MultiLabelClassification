{
 "cells": [
  {
   "cell_type": "markdown",
   "metadata": {},
   "source": [
    "Here I'm going to basically try to predict the missing values in the \"Market Category\" column"
   ]
  },
  {
   "cell_type": "code",
   "execution_count": 12,
   "metadata": {},
   "outputs": [],
   "source": [
    "import numpy as np\n",
    "import pandas as pd\n",
    "from numpy import mean, std\n",
    "# from sklearn.preprocessing import OneHotEncoder\n",
    "# from sklearn.model_selection import RepeatedKFold\n",
    "# from keras.models import Sequential\n",
    "# from keras.layers import Dense\n",
    "# from sklearn.metrics import accuracy_score"
   ]
  },
  {
   "cell_type": "code",
   "execution_count": 18,
   "metadata": {},
   "outputs": [],
   "source": [
    "df = pd.read_csv('data.csv')"
   ]
  },
  {
   "cell_type": "code",
   "execution_count": 4,
   "metadata": {},
   "outputs": [],
   "source": [
    "df['Engine Fuel Type'].fillna(method='ffill', inplace=True)\n",
    "df['Engine HP'].fillna(df['Engine HP'].median(), inplace = True)\n",
    "df['Engine Cylinders'].fillna(df['Engine Cylinders'].mean(), inplace = True)\n",
    "df['Number of Doors'].fillna(method='ffill', inplace = True)\n",
    "df.drop('Model', axis=1, inplace=True)"
   ]
  },
  {
   "cell_type": "code",
   "execution_count": null,
   "metadata": {},
   "outputs": [],
   "source": [
    "#we need to drop the model of the car\n",
    "#to OHE categorical columns\n",
    "\n",
    "# categorical_columns = ['Make', 'Engine Fuel Type', 'Transmission Type', 'Driven_Wheels', 'Vehicle Size', 'Vehicle Style']\n",
    "\n",
    "# #encoding of categorical columns\n",
    "# for column in categorical_columns:\n",
    "#     tempdf = pd.get_dummies(df[column],  prefix=column)\n",
    "#     df = pd.concat([df, tempdf], axis=1)\n",
    "\n",
    "#     df.drop(column, axis=1, inplace=True)\n",
    "\n",
    "#WE DO NOT REALLY NEED TO ENCODE SINCE WEKA WOULD TAKE CARE OF THIS ISSUE"
   ]
  },
  {
   "cell_type": "code",
   "execution_count": 23,
   "metadata": {},
   "outputs": [
    {
     "data": {
      "text/plain": [
       "array(['Factory Tuner,Luxury,High-Performance', 'Luxury,Performance',\n",
       "       'Luxury,High-Performance', 'Luxury', 'Performance', 'Flex Fuel',\n",
       "       'Flex Fuel,Performance', nan, 'Hatchback',\n",
       "       'Hatchback,Luxury,Performance', 'Hatchback,Luxury',\n",
       "       'Luxury,High-Performance,Hybrid', 'Diesel,Luxury',\n",
       "       'Hatchback,Performance', 'Hatchback,Factory Tuner,Performance',\n",
       "       'High-Performance', 'Factory Tuner,High-Performance',\n",
       "       'Exotic,High-Performance', 'Exotic,Factory Tuner,High-Performance',\n",
       "       'Factory Tuner,Performance', 'Crossover', 'Exotic,Luxury',\n",
       "       'Exotic,Luxury,High-Performance', 'Exotic,Luxury,Performance',\n",
       "       'Factory Tuner,Luxury,Performance', 'Flex Fuel,Luxury',\n",
       "       'Crossover,Luxury', 'Hatchback,Factory Tuner,Luxury,Performance',\n",
       "       'Crossover,Hatchback', 'Hybrid', 'Luxury,Performance,Hybrid',\n",
       "       'Crossover,Luxury,Performance,Hybrid',\n",
       "       'Crossover,Luxury,Performance',\n",
       "       'Exotic,Factory Tuner,Luxury,High-Performance',\n",
       "       'Flex Fuel,Luxury,High-Performance', 'Crossover,Flex Fuel',\n",
       "       'Diesel', 'Hatchback,Diesel', 'Crossover,Luxury,Diesel',\n",
       "       'Crossover,Luxury,High-Performance',\n",
       "       'Exotic,Flex Fuel,Factory Tuner,Luxury,High-Performance',\n",
       "       'Exotic,Flex Fuel,Luxury,High-Performance',\n",
       "       'Exotic,Factory Tuner,Luxury,Performance', 'Hatchback,Hybrid',\n",
       "       'Crossover,Hybrid', 'Hatchback,Luxury,Hybrid',\n",
       "       'Flex Fuel,Luxury,Performance', 'Crossover,Performance',\n",
       "       'Luxury,Hybrid', 'Crossover,Flex Fuel,Luxury,Performance',\n",
       "       'Crossover,Flex Fuel,Luxury', 'Crossover,Flex Fuel,Performance',\n",
       "       'Hatchback,Factory Tuner,High-Performance', 'Hatchback,Flex Fuel',\n",
       "       'Factory Tuner,Luxury',\n",
       "       'Crossover,Factory Tuner,Luxury,High-Performance',\n",
       "       'Crossover,Factory Tuner,Luxury,Performance',\n",
       "       'Crossover,Hatchback,Factory Tuner,Performance',\n",
       "       'Crossover,Hatchback,Performance', 'Flex Fuel,Hybrid',\n",
       "       'Flex Fuel,Performance,Hybrid',\n",
       "       'Crossover,Exotic,Luxury,High-Performance',\n",
       "       'Crossover,Exotic,Luxury,Performance', 'Exotic,Performance',\n",
       "       'Exotic,Luxury,High-Performance,Hybrid', 'Crossover,Luxury,Hybrid',\n",
       "       'Flex Fuel,Factory Tuner,Luxury,High-Performance',\n",
       "       'Performance,Hybrid', 'Crossover,Factory Tuner,Performance',\n",
       "       'Crossover,Diesel', 'Flex Fuel,Diesel',\n",
       "       'Crossover,Hatchback,Luxury'], dtype=object)"
      ]
     },
     "execution_count": 23,
     "metadata": {},
     "output_type": "execute_result"
    }
   ],
   "source": [
    "#df['Market Category'].unique()\n",
    "y = df['Market Category']\n",
    "y.unique()"
   ]
  },
  {
   "cell_type": "code",
   "execution_count": 5,
   "metadata": {},
   "outputs": [
    {
     "name": "stdout",
     "output_type": "stream",
     "text": [
      "Factory Tuner added\n",
      "Luxury added\n",
      "High-Performance added\n",
      "Luxury already found\n",
      "Performance added\n",
      "Luxury already found\n",
      "High-Performance already found\n",
      "Luxury already found\n",
      "Performance already found\n",
      "Flex Fuel added\n",
      "Flex Fuel already found\n",
      "Performance already found\n",
      "Hatchback added\n",
      "Hatchback already found\n",
      "Luxury already found\n",
      "Performance already found\n",
      "Hatchback already found\n",
      "Luxury already found\n",
      "Luxury already found\n",
      "High-Performance already found\n",
      "Hybrid added\n",
      "Diesel added\n",
      "Luxury already found\n",
      "Hatchback already found\n",
      "Performance already found\n",
      "Hatchback already found\n",
      "Factory Tuner already found\n",
      "Performance already found\n",
      "High-Performance already found\n",
      "Factory Tuner already found\n",
      "High-Performance already found\n",
      "Exotic added\n",
      "High-Performance already found\n",
      "Exotic already found\n",
      "Factory Tuner already found\n",
      "High-Performance already found\n",
      "Factory Tuner already found\n",
      "Performance already found\n",
      "Crossover added\n",
      "Exotic already found\n",
      "Luxury already found\n",
      "Exotic already found\n",
      "Luxury already found\n",
      "High-Performance already found\n",
      "Exotic already found\n",
      "Luxury already found\n",
      "Performance already found\n",
      "Factory Tuner already found\n",
      "Luxury already found\n",
      "Performance already found\n",
      "Flex Fuel already found\n",
      "Luxury already found\n",
      "Crossover already found\n",
      "Luxury already found\n",
      "Hatchback already found\n",
      "Factory Tuner already found\n",
      "Luxury already found\n",
      "Performance already found\n",
      "Crossover already found\n",
      "Hatchback already found\n",
      "Hybrid already found\n",
      "Luxury already found\n",
      "Performance already found\n",
      "Hybrid already found\n",
      "Crossover already found\n",
      "Luxury already found\n",
      "Performance already found\n",
      "Hybrid already found\n",
      "Crossover already found\n",
      "Luxury already found\n",
      "Performance already found\n",
      "Exotic already found\n",
      "Factory Tuner already found\n",
      "Luxury already found\n",
      "High-Performance already found\n",
      "Flex Fuel already found\n",
      "Luxury already found\n",
      "High-Performance already found\n",
      "Crossover already found\n",
      "Flex Fuel already found\n",
      "Diesel already found\n",
      "Hatchback already found\n",
      "Diesel already found\n",
      "Crossover already found\n",
      "Luxury already found\n",
      "Diesel already found\n",
      "Crossover already found\n",
      "Luxury already found\n",
      "High-Performance already found\n",
      "Exotic already found\n",
      "Flex Fuel already found\n",
      "Factory Tuner already found\n",
      "Luxury already found\n",
      "High-Performance already found\n",
      "Exotic already found\n",
      "Flex Fuel already found\n",
      "Luxury already found\n",
      "High-Performance already found\n",
      "Exotic already found\n",
      "Factory Tuner already found\n",
      "Luxury already found\n",
      "Performance already found\n",
      "Hatchback already found\n",
      "Hybrid already found\n",
      "Crossover already found\n",
      "Hybrid already found\n",
      "Hatchback already found\n",
      "Luxury already found\n",
      "Hybrid already found\n",
      "Flex Fuel already found\n",
      "Luxury already found\n",
      "Performance already found\n",
      "Crossover already found\n",
      "Performance already found\n",
      "Luxury already found\n",
      "Hybrid already found\n",
      "Crossover already found\n",
      "Flex Fuel already found\n",
      "Luxury already found\n",
      "Performance already found\n",
      "Crossover already found\n",
      "Flex Fuel already found\n",
      "Luxury already found\n",
      "Crossover already found\n",
      "Flex Fuel already found\n",
      "Performance already found\n",
      "Hatchback already found\n",
      "Factory Tuner already found\n",
      "High-Performance already found\n",
      "Hatchback already found\n",
      "Flex Fuel already found\n",
      "Factory Tuner already found\n",
      "Luxury already found\n",
      "Crossover already found\n",
      "Factory Tuner already found\n",
      "Luxury already found\n",
      "High-Performance already found\n",
      "Crossover already found\n",
      "Factory Tuner already found\n",
      "Luxury already found\n",
      "Performance already found\n",
      "Crossover already found\n",
      "Hatchback already found\n",
      "Factory Tuner already found\n",
      "Performance already found\n",
      "Crossover already found\n",
      "Hatchback already found\n",
      "Performance already found\n",
      "Flex Fuel already found\n",
      "Hybrid already found\n",
      "Flex Fuel already found\n",
      "Performance already found\n",
      "Hybrid already found\n",
      "Crossover already found\n",
      "Exotic already found\n",
      "Luxury already found\n",
      "High-Performance already found\n",
      "Crossover already found\n",
      "Exotic already found\n",
      "Luxury already found\n",
      "Performance already found\n",
      "Exotic already found\n",
      "Performance already found\n",
      "Exotic already found\n",
      "Luxury already found\n",
      "High-Performance already found\n",
      "Hybrid already found\n",
      "Crossover already found\n",
      "Luxury already found\n",
      "Hybrid already found\n",
      "Flex Fuel already found\n",
      "Factory Tuner already found\n",
      "Luxury already found\n",
      "High-Performance already found\n",
      "Performance already found\n",
      "Hybrid already found\n",
      "Crossover already found\n",
      "Factory Tuner already found\n",
      "Performance already found\n",
      "Crossover already found\n",
      "Diesel already found\n",
      "Flex Fuel already found\n",
      "Diesel already found\n",
      "Crossover already found\n",
      "Hatchback already found\n",
      "Luxury already found\n"
     ]
    }
   ],
   "source": [
    "#Market Category\n",
    "#this is a categorical column\n",
    "lst = df['Market Category'].unique()\n",
    "\n",
    "category_list = []\n",
    "#loop extracts unique label for the market category column \n",
    "for i in lst:\n",
    "    if isinstance(i, str):\n",
    "        if ',' in i:\n",
    "            new_list = i.split(',')\n",
    "            for j in new_list:\n",
    "                if j in category_list:\n",
    "                    print(j, 'already found')\n",
    "                    continue\n",
    "                else:\n",
    "                    category_list.append(j)\n",
    "                    print(j, 'added')\n",
    "        else:\n",
    "            if i in category_list:\n",
    "                print(i, 'already found')\n",
    "                continue\n",
    "            else:\n",
    "                category_list.append(i)\n",
    "                print(i, 'added')\n"
   ]
  },
  {
   "cell_type": "code",
   "execution_count": 6,
   "metadata": {},
   "outputs": [
    {
     "name": "stderr",
     "output_type": "stream",
     "text": [
      "/tmp/ipykernel_160867/3728987043.py:6: SettingWithCopyWarning: \n",
      "A value is trying to be set on a copy of a slice from a DataFrame\n",
      "\n",
      "See the caveats in the documentation: https://pandas.pydata.org/pandas-docs/stable/user_guide/indexing.html#returning-a-view-versus-a-copy\n",
      "  prediction_df.drop('Market Category', axis=1, inplace=True)\n"
     ]
    }
   ],
   "source": [
    "#create new df containg rows with missing market category (test_df)\n",
    "prediction_df = df.loc[df['Market Category'].isna()]\n",
    "#drop rows with missing market category\n",
    "df.drop(df.index[df['Market Category'].isna()], inplace=True)\n",
    "#drop market category column\n",
    "prediction_df.drop('Market Category', axis=1, inplace=True)"
   ]
  },
  {
   "cell_type": "code",
   "execution_count": 15,
   "metadata": {},
   "outputs": [],
   "source": [
    "#output column ('y')\n",
    "df_y = df.pop('Market Category')\n",
    "#changing format of column rows into one that is easier to encodes\n",
    "df_y = df_y.apply(lambda x: [x])"
   ]
  },
  {
   "cell_type": "code",
   "execution_count": 16,
   "metadata": {},
   "outputs": [
    {
     "name": "stdout",
     "output_type": "stream",
     "text": [
      "<class 'pandas.core.series.Series'>\n",
      "<class 'pandas.core.series.Series'>\n"
     ]
    },
    {
     "ename": "TypeError",
     "evalue": "unhashable type: 'list'",
     "output_type": "error",
     "traceback": [
      "\u001b[0;31m---------------------------------------------------------------------------\u001b[0m",
      "\u001b[0;31mTypeError\u001b[0m                                 Traceback (most recent call last)",
      "Cell \u001b[0;32mIn[16], line 3\u001b[0m\n\u001b[1;32m      1\u001b[0m \u001b[38;5;28mprint\u001b[39m(\u001b[38;5;28mtype\u001b[39m(df[\u001b[38;5;124m'\u001b[39m\u001b[38;5;124mEngine HP\u001b[39m\u001b[38;5;124m'\u001b[39m]))\n\u001b[1;32m      2\u001b[0m \u001b[38;5;28mprint\u001b[39m(\u001b[38;5;28mtype\u001b[39m(df_y))\n\u001b[0;32m----> 3\u001b[0m \u001b[38;5;28mprint\u001b[39m(df_y\u001b[38;5;241m.\u001b[39munique())\n",
      "File \u001b[0;32m~/anaconda3/lib/python3.11/site-packages/pandas/core/series.py:2242\u001b[0m, in \u001b[0;36mSeries.unique\u001b[0;34m(self)\u001b[0m\n\u001b[1;32m   2183\u001b[0m \u001b[38;5;28;01mdef\u001b[39;00m \u001b[38;5;21munique\u001b[39m(\u001b[38;5;28mself\u001b[39m) \u001b[38;5;241m-\u001b[39m\u001b[38;5;241m>\u001b[39m ArrayLike:\n\u001b[1;32m   2184\u001b[0m \u001b[38;5;250m    \u001b[39m\u001b[38;5;124;03m\"\"\"\u001b[39;00m\n\u001b[1;32m   2185\u001b[0m \u001b[38;5;124;03m    Return unique values of Series object.\u001b[39;00m\n\u001b[1;32m   2186\u001b[0m \n\u001b[0;32m   (...)\u001b[0m\n\u001b[1;32m   2240\u001b[0m \u001b[38;5;124;03m    Categories (3, object): ['a' < 'b' < 'c']\u001b[39;00m\n\u001b[1;32m   2241\u001b[0m \u001b[38;5;124;03m    \"\"\"\u001b[39;00m\n\u001b[0;32m-> 2242\u001b[0m     \u001b[38;5;28;01mreturn\u001b[39;00m \u001b[38;5;28msuper\u001b[39m()\u001b[38;5;241m.\u001b[39munique()\n",
      "File \u001b[0;32m~/anaconda3/lib/python3.11/site-packages/pandas/core/base.py:1001\u001b[0m, in \u001b[0;36mIndexOpsMixin.unique\u001b[0;34m(self)\u001b[0m\n\u001b[1;32m    999\u001b[0m         result \u001b[38;5;241m=\u001b[39m np\u001b[38;5;241m.\u001b[39masarray(result)\n\u001b[1;32m   1000\u001b[0m \u001b[38;5;28;01melse\u001b[39;00m:\n\u001b[0;32m-> 1001\u001b[0m     result \u001b[38;5;241m=\u001b[39m unique1d(values)\n\u001b[1;32m   1003\u001b[0m \u001b[38;5;28;01mreturn\u001b[39;00m result\n",
      "File \u001b[0;32m~/anaconda3/lib/python3.11/site-packages/pandas/core/algorithms.py:409\u001b[0m, in \u001b[0;36munique\u001b[0;34m(values)\u001b[0m\n\u001b[1;32m    315\u001b[0m \u001b[38;5;28;01mdef\u001b[39;00m \u001b[38;5;21munique\u001b[39m(values):\n\u001b[1;32m    316\u001b[0m \u001b[38;5;250m    \u001b[39m\u001b[38;5;124;03m\"\"\"\u001b[39;00m\n\u001b[1;32m    317\u001b[0m \u001b[38;5;124;03m    Return unique values based on a hash table.\u001b[39;00m\n\u001b[1;32m    318\u001b[0m \n\u001b[0;32m   (...)\u001b[0m\n\u001b[1;32m    407\u001b[0m \u001b[38;5;124;03m    array([('a', 'b'), ('b', 'a'), ('a', 'c')], dtype=object)\u001b[39;00m\n\u001b[1;32m    408\u001b[0m \u001b[38;5;124;03m    \"\"\"\u001b[39;00m\n\u001b[0;32m--> 409\u001b[0m     \u001b[38;5;28;01mreturn\u001b[39;00m unique_with_mask(values)\n",
      "File \u001b[0;32m~/anaconda3/lib/python3.11/site-packages/pandas/core/algorithms.py:425\u001b[0m, in \u001b[0;36munique_with_mask\u001b[0;34m(values, mask)\u001b[0m\n\u001b[1;32m    423\u001b[0m table \u001b[38;5;241m=\u001b[39m htable(\u001b[38;5;28mlen\u001b[39m(values))\n\u001b[1;32m    424\u001b[0m \u001b[38;5;28;01mif\u001b[39;00m mask \u001b[38;5;129;01mis\u001b[39;00m \u001b[38;5;28;01mNone\u001b[39;00m:\n\u001b[0;32m--> 425\u001b[0m     uniques \u001b[38;5;241m=\u001b[39m table\u001b[38;5;241m.\u001b[39munique(values)\n\u001b[1;32m    426\u001b[0m     uniques \u001b[38;5;241m=\u001b[39m _reconstruct_data(uniques, original\u001b[38;5;241m.\u001b[39mdtype, original)\n\u001b[1;32m    427\u001b[0m     \u001b[38;5;28;01mreturn\u001b[39;00m uniques\n",
      "File \u001b[0;32mpandas/_libs/hashtable_class_helper.pxi:5910\u001b[0m, in \u001b[0;36mpandas._libs.hashtable.PyObjectHashTable.unique\u001b[0;34m()\u001b[0m\n",
      "File \u001b[0;32mpandas/_libs/hashtable_class_helper.pxi:5857\u001b[0m, in \u001b[0;36mpandas._libs.hashtable.PyObjectHashTable._unique\u001b[0;34m()\u001b[0m\n",
      "\u001b[0;31mTypeError\u001b[0m: unhashable type: 'list'"
     ]
    }
   ],
   "source": [
    "print(type(df['Engine HP']))\n",
    "print(type(df_y))\n",
    "print(df_y.unique())"
   ]
  },
  {
   "cell_type": "code",
   "execution_count": null,
   "metadata": {},
   "outputs": [],
   "source": [
    "df = df.reset_index()\n",
    "#df_y = df_y.reset_index()"
   ]
  },
  {
   "cell_type": "code",
   "execution_count": null,
   "metadata": {},
   "outputs": [],
   "source": [
    "#custom OHE function for y_column\n",
    "\n",
    "def ohe_list(df_col, categories):\n",
    "    #create a dictionary map\n",
    "    label_to_int = dict((c, i) for i, c in enumerate(categories))\n",
    "    #int_to_label = dict((i, c) for i, c in enumerate(categories))\n",
    "\n",
    "    #encode to integer\n",
    "    label_encoded = [[[label_to_int[label] for label in cell.split(',') ] for cell in row] for row in df_col]\n",
    "\n",
    "    #create one hot list\n",
    "    oh_list = list()\n",
    "\n",
    "    for row in label_encoded:\n",
    "        for cell in row:\n",
    "            cell_enc = [0 for _ in range(len(categories))]\n",
    "            for label in cell:\n",
    "                cell_enc[label] = 1\n",
    "            oh_list.append(cell_enc)\n",
    "\n",
    "    return oh_list \n"
   ]
  },
  {
   "cell_type": "code",
   "execution_count": null,
   "metadata": {},
   "outputs": [],
   "source": [
    "df_y_enc = ohe_list(df_y, category_list)"
   ]
  },
  {
   "cell_type": "code",
   "execution_count": null,
   "metadata": {},
   "outputs": [],
   "source": [
    "df_y_enc = pd.DataFrame(df_y_enc)\n",
    "df_y_enc"
   ]
  },
  {
   "cell_type": "code",
   "execution_count": null,
   "metadata": {},
   "outputs": [],
   "source": [
    "def get_model(n_inputs, n_outputs):\n",
    "\tmodel = Sequential()\n",
    "\tmodel.add(Dense(20, input_dim=n_inputs, kernel_initializer='he_uniform', activation='relu'))\n",
    "\tmodel.add(Dense(n_outputs, activation='sigmoid'))\n",
    "\tmodel.compile(loss='binary_crossentropy', optimizer='adam')\n",
    "\treturn model\n",
    "\n",
    "#really lame model lol"
   ]
  },
  {
   "cell_type": "code",
   "execution_count": null,
   "metadata": {},
   "outputs": [],
   "source": [
    "def evaluate_model(X, y):\n",
    "    results = list()\n",
    "    n_inputs, n_outputs = X.shape[1], y.shape[1]\n",
    "\n",
    "    #defining evaluation precedure\n",
    "    cross_val = RepeatedKFold(n_splits=10, n_repeats=3, random_state=1)\n",
    "    for train, test in cross_val.split(X):\n",
    "        X_train, X_test = X.loc[train, X.columns], X.loc[test, X.columns]\n",
    "        y_train, y_test = y.loc[train, y.columns], y.loc[test, y.columns]\n",
    "\n",
    "        model = get_model(n_inputs, n_outputs)\n",
    "        model_history = model.fit(X_train, y_train, epochs=10)\n",
    "\n",
    "        y_hat = model.predict(X_test)\n",
    "        y_hat = y_hat.round()\n",
    "\n",
    "        acc = accuracy_score(y_test, y_hat)\n",
    "        print('\\n >%.3f \\n\\n' %acc)\n",
    "        results.append(acc)\n",
    "    return results, model_history\n",
    "        \n",
    "#well this was pointless"
   ]
  },
  {
   "cell_type": "code",
   "execution_count": null,
   "metadata": {},
   "outputs": [],
   "source": [
    "#results, model_hist = evaluate_model(df, df_y_enc)\n",
    "#print('Accuracy: %.3f (%.3f)' % (mean(results), std(results)))\n",
    "\n",
    "#avg accuracy is 30% (really poor)"
   ]
  },
  {
   "cell_type": "markdown",
   "metadata": {},
   "source": [
    "Create new data set to use on weka "
   ]
  },
  {
   "cell_type": "code",
   "execution_count": null,
   "metadata": {},
   "outputs": [],
   "source": [
    "df['y_axis'] = df_y_enc[df_y_enc.columns[0:]].apply(lambda x: [i for i in x], axis=1)"
   ]
  },
  {
   "cell_type": "code",
   "execution_count": null,
   "metadata": {},
   "outputs": [],
   "source": [
    "df.to_csv('processed_data.csv', index=False)"
   ]
  },
  {
   "cell_type": "code",
   "execution_count": null,
   "metadata": {},
   "outputs": [],
   "source": [
    "test_df = pd.read_csv('to_predict.csv')  #this csv file was deleted\n",
    "test_df.columns"
   ]
  },
  {
   "cell_type": "code",
   "execution_count": null,
   "metadata": {},
   "outputs": [],
   "source": [
    "#test_df.drop(test_df['index'], axis=1, inplace=True)\n",
    "del test_df['index']\n",
    "test_df.reset_index(inplace=True)\n",
    "test_df['y_axis'] = '?'"
   ]
  },
  {
   "cell_type": "code",
   "execution_count": null,
   "metadata": {},
   "outputs": [],
   "source": [
    "test_df.to_csv('to_pred.csv', index=False, index_label=False)"
   ]
  },
  {
   "cell_type": "markdown",
   "metadata": {},
   "source": [
    "### NOTES ###\n",
    "-> Weka can only predice a certain amount of supplied test values at a time (Well at least I have'nt found a way around it)  \n",
    "\n",
    "-> The test dataset (to_predict) must have the same columns as the train dataset when suppling to weka (including the column with missing values... all you have to do is to populate that column with \"?\")  \n",
    "\n",
    "-> Javabridge installation is not working (I have to find a way to fix this asap!)  \n",
    "\n",
    "-> Decode function not yet imlpemented (This would be completed later)\n"
   ]
  },
  {
   "cell_type": "code",
   "execution_count": 24,
   "metadata": {},
   "outputs": [
    {
     "ename": "AttributeError",
     "evalue": "'tuple' object has no attribute 'add'",
     "output_type": "error",
     "traceback": [
      "\u001b[0;31m---------------------------------------------------------------------------\u001b[0m",
      "\u001b[0;31mAttributeError\u001b[0m                            Traceback (most recent call last)",
      "Cell \u001b[0;32mIn[24], line 2\u001b[0m\n\u001b[1;32m      1\u001b[0m a \u001b[38;5;241m=\u001b[39m ()\n\u001b[0;32m----> 2\u001b[0m a\u001b[38;5;241m.\u001b[39madd(\u001b[38;5;241m1\u001b[39m)\n\u001b[1;32m      3\u001b[0m \u001b[38;5;28mprint\u001b[39m(a)\n",
      "\u001b[0;31mAttributeError\u001b[0m: 'tuple' object has no attribute 'add'"
     ]
    }
   ],
   "source": [
    "a:set = ()\n",
    "a.add(1)\n",
    "print(a)"
   ]
  },
  {
   "cell_type": "code",
   "execution_count": null,
   "metadata": {},
   "outputs": [],
   "source": []
  }
 ],
 "metadata": {
  "kernelspec": {
   "display_name": "Python 3.10.7 64-bit (microsoft store)",
   "language": "python",
   "name": "python3"
  },
  "language_info": {
   "codemirror_mode": {
    "name": "ipython",
    "version": 3
   },
   "file_extension": ".py",
   "mimetype": "text/x-python",
   "name": "python",
   "nbconvert_exporter": "python",
   "pygments_lexer": "ipython3",
   "version": "3.11.5"
  },
  "orig_nbformat": 4,
  "vscode": {
   "interpreter": {
    "hash": "1fb6802bca10536631454388dc7754e14df50e11a5efcab5b6d4dac13af1b70b"
   }
  }
 },
 "nbformat": 4,
 "nbformat_minor": 2
}
